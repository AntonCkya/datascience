{
 "cells": [
  {
   "cell_type": "markdown",
   "id": "657be689",
   "metadata": {},
   "source": [
    "# Самостоятельное задание #3\n",
    "\n",
    "\n",
    "### Задание 1\n",
    "\n",
    "Допишите функцию, которая принимает массив из 10 чисел и возвращает их сумму."
   ]
  },
  {
   "cell_type": "code",
   "execution_count": 42,
   "id": "18ffcbab",
   "metadata": {},
   "outputs": [
    {
     "name": "stdout",
     "output_type": "stream",
     "text": [
      "[1, 2, 3, 4, 5]                            | 0\n",
      "[1, 2, 3, 4, 5, 6, 7, 8, 9, 10]            | 55\n",
      "[10, 10, 10, 10, 10, 10, 10, 10, 10, 10]   | 100\n",
      "[]                                         | 0\n"
     ]
    }
   ],
   "source": [
    "def sum_array (array: list):\n",
    "    return sum(array) if len(array) == 10 else 0\n",
    "\n",
    "\n",
    "print(\"[1, 2, 3, 4, 5]                            |\", sum_array([1, 2, 3, 4, 5]))\n",
    "print(\"[1, 2, 3, 4, 5, 6, 7, 8, 9, 10]            |\", sum_array([1, 2, 3, 4, 5, 6, 7, 8, 9, 10]))\n",
    "print(\"[10, 10, 10, 10, 10, 10, 10, 10, 10, 10]   |\", sum_array([10, 10, 10, 10, 10, 10, 10, 10, 10, 10]))\n",
    "print(\"[]                                         |\", sum_array(list()))"
   ]
  },
  {
   "cell_type": "markdown",
   "id": "eb78afc0",
   "metadata": {},
   "source": [
    "\n",
    "### Задание 2\n",
    "\n",
    "Допишите функцию, которая принимает массив чисел и возвращает количество чисел равных нулю."
   ]
  },
  {
   "cell_type": "code",
   "execution_count": 43,
   "id": "7e8fe536",
   "metadata": {},
   "outputs": [
    {
     "name": "stdout",
     "output_type": "stream",
     "text": [
      "[1, 2, 3]          | 0\n",
      "[0, 1, 2, 3]       | 1\n",
      "[0, 1, 2, 3, 0]    | 2\n",
      "[0, 1, 2, 0, 3, 0] | 3\n",
      "[]                 | 0\n"
     ]
    }
   ],
   "source": [
    "def count_zero (array: list):\n",
    "    return len(list(filter(lambda x: x == 0, array)))\n",
    "\n",
    "\n",
    "print(\"[1, 2, 3]          |\", count_zero([1, 2, 3]))\n",
    "print(\"[0, 1, 2, 3]       |\", count_zero([0, 1, 2, 3]))\n",
    "print(\"[0, 1, 2, 3, 0]    |\", count_zero([0, 1, 2, 3, 0]))\n",
    "print(\"[0, 1, 2, 0, 3, 0] |\", count_zero([0, 1, 2, 0, 3, 0]))\n",
    "print(\"[]                 |\", count_zero([]))"
   ]
  },
  {
   "cell_type": "markdown",
   "id": "570d5a26",
   "metadata": {},
   "source": [
    "\n",
    "### Задание 3\n",
    "\n",
    "Напишите программу, в которой задается  натуральное число n и выводится лестница из n ступенек, i-я ступенька должна состоять из чисел от 1 до i без пробелов."
   ]
  },
  {
   "cell_type": "code",
   "execution_count": 62,
   "id": "69fd0501",
   "metadata": {},
   "outputs": [
    {
     "name": "stdout",
     "output_type": "stream",
     "text": [
      "1\n",
      "12\n",
      "123\n",
      "1234\n",
      "12345\n",
      "1\n",
      "12\n",
      "123\n",
      "\n"
     ]
    }
   ],
   "source": [
    "def ladder (n: int):\n",
    "    print('\\n'.join(list(''.join(str(i) for i in range(1, j + 1)) for j in range(1, n + 1))))\n",
    "\n",
    "\n",
    "ladder(5)\n",
    "ladder(3)\n",
    "ladder(0)"
   ]
  },
  {
   "cell_type": "markdown",
   "id": "b6ef1c44",
   "metadata": {},
   "source": [
    "\n",
    "### Задание 4\n",
    "\n",
    "Напишите программу, в которой задается натуральное число n и выводится пирамида из n ступенек, i-я ступень должна состоять из чисел от 1 до i и обратно без пробелов."
   ]
  },
  {
   "cell_type": "code",
   "execution_count": 134,
   "id": "6b038f87",
   "metadata": {},
   "outputs": [
    {
     "name": "stdout",
     "output_type": "stream",
     "text": [
      "    1    \n",
      "   121   \n",
      "  12321  \n",
      " 1234321 \n",
      "123454321\n",
      "  1  \n",
      " 121 \n",
      "12321\n"
     ]
    }
   ],
   "source": [
    "def pyramid_cool (n: int): #решил в одну строчку но не в том порядке\n",
    "    print('\\n'.join(list(''.join(str(abs(i)) if abs(i) < j else ' '\\\n",
    "    for i in list(filter(lambda x: x != 0 and x != -1, range(-n-1, n+1)))) for j in range(2, n+2))))\n",
    "\n",
    "\n",
    "def pyramid (n: int):\n",
    "    for i in range(1, n+1):\n",
    "        array = [' '] * (n-i) + list(map(str, range(1, i+1))) + list(map(str, range(i-1, 0, -1))) + [' '] * (n-i)\n",
    "        print(''.join(array))\n",
    "\n",
    "\n",
    "pyramid(5)\n",
    "pyramid(3)\n",
    "pyramid(0)"
   ]
  },
  {
   "cell_type": "markdown",
   "id": "b4552ef5",
   "metadata": {},
   "source": [
    "\n",
    "### Задание 5\n",
    "\n",
    "Напишите программу, в которой задается натуральное число n и выводится ромб из `n*2-1` ступенек, i-я ступень должна состоять из чисел от 1 до i и обратно без пробелов."
   ]
  },
  {
   "cell_type": "code",
   "execution_count": 138,
   "id": "5eaae897",
   "metadata": {},
   "outputs": [
    {
     "name": "stdout",
     "output_type": "stream",
     "text": [
      "    1    \n",
      "   121   \n",
      "  12321  \n",
      " 1234321 \n",
      "123454321\n",
      " 1234321 \n",
      "  12321  \n",
      "   121   \n",
      "    1    \n",
      "  1  \n",
      " 121 \n",
      "12321\n",
      " 121 \n",
      "  1  \n"
     ]
    }
   ],
   "source": [
    "def diamond (n: int):\n",
    "    for i in range(1, n+1):\n",
    "        array = [' '] * (n-i) + list(map(str, range(1, i+1))) + list(map(str, range(i-1, 0, -1))) + [' '] * (n-i)\n",
    "        print(''.join(array))\n",
    "    for i in range(n-1, 0, -1):\n",
    "        array = [' '] * (n-i) + list(map(str, range(1, i+1))) + list(map(str, range(i-1, 0, -1))) + [' '] * (n-i)\n",
    "        print(''.join(array))\n",
    "\n",
    "\n",
    "diamond(5)\n",
    "diamond(3)\n",
    "diamond(0)"
   ]
  }
 ],
 "metadata": {
  "kernelspec": {
   "display_name": "Python 3.10.5 64-bit",
   "language": "python",
   "name": "python3"
  },
  "language_info": {
   "codemirror_mode": {
    "name": "ipython",
    "version": 3
   },
   "file_extension": ".py",
   "mimetype": "text/x-python",
   "name": "python",
   "nbconvert_exporter": "python",
   "pygments_lexer": "ipython3",
   "version": "3.10.5"
  },
  "vscode": {
   "interpreter": {
    "hash": "114d303552085fcf64a64dd34f96980ac0a97fa0c82447a7089cec4b1cdabf60"
   }
  }
 },
 "nbformat": 4,
 "nbformat_minor": 5
}
