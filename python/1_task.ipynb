{
 "cells": [
  {
   "cell_type": "markdown",
   "id": "caec52ff",
   "metadata": {},
   "source": [
    "# Самостоятельное задание\n",
    "\n",
    "Мы предлагаем вам потренироваться c логическими и побитовыми операторами."
   ]
  },
  {
   "cell_type": "code",
   "execution_count": 6,
   "id": "7fe7e97e",
   "metadata": {},
   "outputs": [
    {
     "name": "stdout",
     "output_type": "stream",
     "text": [
      "1| a and b                                              | False\n",
      "2| (a and b) or b                                       | False\n",
      "3| (a and b) or not (a and b)                           | True\n",
      "4| a and b or not (a or b) or b                         | False\n",
      "5| b and b or not a and (a or b or a) or not (a or b)   | False\n",
      "6| 1 << 2                                               |   4\n",
      "7| 1 & 0 | 1 >> 1                                       |   0\n",
      "8| 1 & 0 | 1 >> 0                                       |   1\n",
      "9| 0b101 & 0b111 ^ 0b111 | 0b010                        |   2\n"
     ]
    }
   ],
   "source": [
    "a = True\n",
    "\n",
    "b = False\n",
    "\n",
    "print(\"1| a and b                                              |\", a and b)\n",
    "print(\"2| (a and b) or b                                       |\", (a and b) or b)\n",
    "print(\"3| (a and b) or not (a and b)                           |\", (a and b) or not (a and b))\n",
    "print(\"4| a and b or not (a or b) or b                         |\", a and b or not (a or b) or b)\n",
    "print(\"5| b and b or not a and (a or b or a) or not (a or b)   |\", b and b or not a and (a or b or a) or not (a or b))\n",
    "print(\"6| 1 << 2                                               |  \", 1 << 2)\n",
    "print(\"7| 1 & 0 | 1 >> 1                                       |  \", 1 & 0 | 1 >> 1)\n",
    "print(\"8| 1 & 0 | 1 >> 0                                       |  \", 1 & 0 | 1 >> 0)\n",
    "print(\"9| 0b101 & 0b111 ^ 0b111 | 0b010                        |  \", 0b101 & 0b111 ^ 0b111 | 0b010)"
   ]
  },
  {
   "cell_type": "markdown",
   "id": "06c53579",
   "metadata": {},
   "source": [
    "**Решите:**\n",
    "\n",
    "1. a and b\n",
    "\n",
    "2. (a and b) or b\n",
    "\n",
    "3. (a and b) or not (a and b)\n",
    "\n",
    "4. a and b or not (a or b) or b\n",
    "\n",
    "5. b and b or not a and (a or b or a) or not (a or b)\n",
    "\n",
    "6. 1 << 2\n",
    "\n",
    "7. 1 & 0 | 1 >> 1\n",
    "\n",
    "8. 1 & 0 | 1 >> 0\n",
    "\n",
    "9. 0b101 & 0b111 ^ 0b111 | 0b010  Комментарий: \"0b101\" - запись числа \"5\" на языке Python в двоичном виде "
   ]
  }
 ],
 "metadata": {
  "kernelspec": {
   "display_name": "Python 3.10.5 64-bit",
   "language": "python",
   "name": "python3"
  },
  "language_info": {
   "codemirror_mode": {
    "name": "ipython",
    "version": 3
   },
   "file_extension": ".py",
   "mimetype": "text/x-python",
   "name": "python",
   "nbconvert_exporter": "python",
   "pygments_lexer": "ipython3",
   "version": "3.10.5"
  },
  "vscode": {
   "interpreter": {
    "hash": "114d303552085fcf64a64dd34f96980ac0a97fa0c82447a7089cec4b1cdabf60"
   }
  }
 },
 "nbformat": 4,
 "nbformat_minor": 5
}
