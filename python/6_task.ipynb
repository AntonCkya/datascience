{
 "cells": [
  {
   "cell_type": "markdown",
   "id": "49944faf",
   "metadata": {},
   "source": [
    "# Самостоятельное задание #6\n",
    "\n",
    "\n",
    "### Задание 1\n",
    "\n",
    "\n",
    "Допишите функцию, которая принимает несколько параметров. Первый параметр - словарь, второй параметр - один из ключей данного словаря. Функция должна выводить значение этого ключа."
   ]
  },
  {
   "cell_type": "code",
   "execution_count": 8,
   "id": "3f41a526",
   "metadata": {},
   "outputs": [
    {
     "name": "stdout",
     "output_type": "stream",
     "text": [
      "dictt = {\n",
      "\t\"name\": \"Anton\",\n",
      "\t\"age\": 19,\n",
      "\t\"sex\": \"male\",\n",
      "\t\"is_Student\": True\n",
      "}\n",
      "name:  Anton\n",
      "name:  19\n",
      "name:  male\n",
      "name:  True\n"
     ]
    }
   ],
   "source": [
    "def dict_value (array: dict, key):\n",
    "    return array[key]\n",
    "\n",
    "dictt = {\n",
    "    \"name\": \"Anton\",\n",
    "    \"age\": 19,\n",
    "    \"sex\": \"male\",\n",
    "    \"is_Student\": True\n",
    "}\n",
    "print('dictt = {\\n\\t\"name\": \"Anton\",\\n\\t\"age\": 19,\\n\\t\"sex\": \"male\",\\n\\t\"is_Student\": True\\n}')\n",
    "print(\"name: \", dict_value(dictt, \"name\"))\n",
    "print(\"name: \", dict_value(dictt, \"age\"))\n",
    "print(\"name: \", dict_value(dictt, \"sex\"))\n",
    "print(\"name: \", dict_value(dictt, \"is_Student\"))"
   ]
  }
 ],
 "metadata": {
  "kernelspec": {
   "display_name": "Python 3.10.5 64-bit",
   "language": "python",
   "name": "python3"
  },
  "language_info": {
   "codemirror_mode": {
    "name": "ipython",
    "version": 3
   },
   "file_extension": ".py",
   "mimetype": "text/x-python",
   "name": "python",
   "nbconvert_exporter": "python",
   "pygments_lexer": "ipython3",
   "version": "3.10.5"
  },
  "vscode": {
   "interpreter": {
    "hash": "114d303552085fcf64a64dd34f96980ac0a97fa0c82447a7089cec4b1cdabf60"
   }
  }
 },
 "nbformat": 4,
 "nbformat_minor": 5
}
