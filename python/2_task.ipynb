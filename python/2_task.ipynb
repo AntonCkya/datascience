{
 "cells": [
  {
   "cell_type": "markdown",
   "id": "246424fe",
   "metadata": {},
   "source": [
    "# Самостоятельная работа #2\n",
    "### Задание 1\n",
    "\n",
    "Допишите функцию, которая принимает 2 числа, сравнивает между собой и возвращает наименьшее."
   ]
  },
  {
   "cell_type": "code",
   "execution_count": 53,
   "id": "1b225d18",
   "metadata": {},
   "outputs": [
    {
     "name": "stdout",
     "output_type": "stream",
     "text": [
      "1 and 2    | 1\n",
      "2 and 2    | 2\n",
      "5 and 2    | 2\n",
      "-5 and 2   | -5\n",
      "5 and -0   | 0\n",
      "0.5 and 2  | 0.5\n"
     ]
    }
   ],
   "source": [
    "def comp (a: int, b: int):\n",
    "    return a if a < b else b\n",
    "\n",
    "\n",
    "print(\"1 and 2    |\", comp(1, 2))\n",
    "print(\"2 and 2    |\", comp(2, 2))\n",
    "print(\"5 and 2    |\", comp(5, 2))\n",
    "print(\"-5 and 2   |\", comp(-5, 2))\n",
    "print(\"5 and -0   |\", comp(5, -0))\n",
    "print(\"0.5 and 2  |\", comp(0.5, 2))"
   ]
  },
  {
   "cell_type": "markdown",
   "id": "9342d85f",
   "metadata": {},
   "source": [
    "### Задание 2\n",
    "\n",
    "Допишите функцию, которая принимает 3 числа, сравнивает между собой и возвращает наименьшее."
   ]
  },
  {
   "cell_type": "code",
   "execution_count": 54,
   "id": "5371aa95",
   "metadata": {},
   "outputs": [
    {
     "name": "stdout",
     "output_type": "stream",
     "text": [
      "1 and 2 and 3 | 1\n",
      "5 and 2 and 3 | 2\n",
      "5 and 10 and 3| 3\n",
      "1 and 1 and 1 | 1\n"
     ]
    }
   ],
   "source": [
    "def comp3 (a: int, b: int, c: int):\n",
    "    if a < b:\n",
    "        if a < c:\n",
    "            return a\n",
    "        else:\n",
    "            return c\n",
    "    else:\n",
    "        if b < c:\n",
    "            return b\n",
    "        else:\n",
    "            return c\n",
    "\n",
    "\n",
    "print(\"1 and 2 and 3 |\", comp3(1, 2, 3))\n",
    "print(\"5 and 2 and 3 |\", comp3(5, 2, 3))\n",
    "print(\"5 and 10 and 3|\", comp3(5, 10, 3))\n",
    "print(\"1 and 1 and 1 |\", comp3(1, 1, 1))\n"
   ]
  },
  {
   "cell_type": "markdown",
   "id": "9ef85dfd",
   "metadata": {},
   "source": [
    "### Задание 3\n",
    "\n",
    "Допишите функцию, которая принимает 3 числа, сравнивает между собой и возвращает количество совпадающих чисел. Соответственно, программа может возвращать одно из трех чисел: 3 - если совпадают все, 2 - если совпадают 2 числа, 0 - если все числа различны."
   ]
  },
  {
   "cell_type": "code",
   "execution_count": 58,
   "id": "ec6a169c",
   "metadata": {},
   "outputs": [
    {
     "name": "stdout",
     "output_type": "stream",
     "text": [
      "1 and 1 and 2  | 2\n",
      "1 and 1 and 1  | 3\n",
      "1 and 2 and 3  | 0\n",
      "1 and 1.0 and 2| 2\n",
      "1 and 1.0 and 2| 0\n"
     ]
    }
   ],
   "source": [
    "def comp_equal (a: int, b: int, c: int):\n",
    "    x = 0\n",
    "    x += 2 if a == b or a == c or b == c else 0\n",
    "    x += 1 if a == b == c else 0\n",
    "    return x\n",
    "\n",
    "\n",
    "def comp_equal_is (a: int, b: int, c: int):\n",
    "    x = 0\n",
    "    x += 2 if a is b or a is c or b is c else 0\n",
    "    x += 1 if a is b and b is c else 0\n",
    "    return x\n",
    "\n",
    "\n",
    "print(\"1 and 1 and 2  |\", comp_equal(1, 1, 2))\n",
    "print(\"1 and 1 and 1  |\", comp_equal(1, 1, 1))\n",
    "print(\"1 and 2 and 3  |\", comp_equal(1, 2, 3))\n",
    "print(\"1 and 1.0 and 2|\", comp_equal(1, 1.0, 2))\n",
    "print(\"1 and 1.0 and 2|\", comp_equal_is(1, 1.0, 2))\n"
   ]
  }
 ],
 "metadata": {
  "kernelspec": {
   "display_name": "Python 3.10.5 64-bit",
   "language": "python",
   "name": "python3"
  },
  "language_info": {
   "codemirror_mode": {
    "name": "ipython",
    "version": 3
   },
   "file_extension": ".py",
   "mimetype": "text/x-python",
   "name": "python",
   "nbconvert_exporter": "python",
   "pygments_lexer": "ipython3",
   "version": "3.10.5"
  },
  "vscode": {
   "interpreter": {
    "hash": "114d303552085fcf64a64dd34f96980ac0a97fa0c82447a7089cec4b1cdabf60"
   }
  }
 },
 "nbformat": 4,
 "nbformat_minor": 5
}
