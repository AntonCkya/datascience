{
 "cells": [
  {
   "cell_type": "markdown",
   "id": "85755de8",
   "metadata": {},
   "source": [
    "# Самостоятельное задание #5\n",
    "\n",
    "\n",
    "### Задание 1\n",
    "\n",
    "Допишите функцию, которая принимает список, выбирает из него все элементы с четным индексом и возвращает их в виде списка."
   ]
  },
  {
   "cell_type": "code",
   "execution_count": 7,
   "id": "6ef6d9b3",
   "metadata": {},
   "outputs": [
    {
     "name": "stdout",
     "output_type": "stream",
     "text": [
      "[1, 2, 3, 4, 5]    | [2, 4]\n",
      "[1, 2, 3, 4, 5, 6] | [2, 4, 6]\n",
      "[2, 3, 4, 5, 6, 7] | [3, 5, 7]\n",
      "[]                 | []\n"
     ]
    }
   ],
   "source": [
    "def parity (array: list):\n",
    "    return array[1::2]\n",
    "\n",
    "\n",
    "print(\"[1, 2, 3, 4, 5]    |\", parity([1, 2, 3, 4, 5]))\n",
    "print(\"[1, 2, 3, 4, 5, 6] |\", parity([1, 2, 3, 4, 5, 6]))\n",
    "print(\"[2, 3, 4, 5, 6, 7] |\", parity([2, 3, 4, 5, 6, 7]))\n",
    "print(\"[]                 |\", parity([]))"
   ]
  },
  {
   "cell_type": "markdown",
   "id": "443974c9",
   "metadata": {},
   "source": [
    "### Задание 2\n",
    "\n",
    "Допишите функцию, которая принимает список, выбирает из него все элементы, которые больше предыдущего и возвращает их в виде списка.\n"
   ]
  },
  {
   "cell_type": "code",
   "execution_count": 25,
   "id": "3a8cf925",
   "metadata": {},
   "outputs": [
    {
     "name": "stdout",
     "output_type": "stream",
     "text": [
      "[1, 2, 3, 2, 4, 1, 5] | [1, 2, 3, 4, 5]\n",
      "[5, 2, 3, 2, 4, 1, 5] | [5, 3, 4, 5]\n",
      "[]                    | []\n"
     ]
    }
   ],
   "source": [
    "def stalin_sort (array: list):\n",
    "    array2 = []\n",
    "    if len(array) == 0:\n",
    "        return []\n",
    "    array2.append(array[0])\n",
    "    for i in range(1, len(array)):\n",
    "        if array[i] > array[i-1]:\n",
    "            array2.append(array[i])\n",
    "    return array2\n",
    "\n",
    "\n",
    "print(\"[1, 2, 3, 2, 4, 1, 5] |\", stalin_sort([1, 2, 3, 2, 4, 1, 5]))\n",
    "print(\"[5, 2, 3, 2, 4, 1, 5] |\", stalin_sort([5, 2, 3, 2, 4, 1, 5]))\n",
    "print(\"[]                    |\", stalin_sort([]))"
   ]
  },
  {
   "cell_type": "markdown",
   "id": "34524ede",
   "metadata": {},
   "source": [
    "### Задание 3\n",
    "\n",
    "Допишите функцию, которая принимает список, меняет местами наибольший и наименьший элементы и возвращает этот список."
   ]
  },
  {
   "cell_type": "code",
   "execution_count": 31,
   "id": "34d2beae",
   "metadata": {},
   "outputs": [
    {
     "name": "stdout",
     "output_type": "stream",
     "text": [
      "[5, 2, 3, 4, 1] | [1, 2, 3, 4, 5]\n",
      "[5, 5, 5, 5, 1] | [5, 5, 5, 1, 5]\n",
      "[5, 1, 1, 1, 1] | [1, 1, 1, 1, 5]\n",
      "[1]             | [1]\n",
      "[]              | []\n"
     ]
    }
   ],
   "source": [
    "def min_max_swap(array: list):\n",
    "    ind_max = 0\n",
    "    ind_min = 0\n",
    "    if len(array) == 0:\n",
    "        return []\n",
    "    max_a = max(array)\n",
    "    min_a = min(array)\n",
    "    for i in range(len(array)):\n",
    "        if array[i] == max_a:\n",
    "            ind_max = i\n",
    "        if array[i] == min_a:\n",
    "            ind_min = i\n",
    "    array[ind_max], array[ind_min] = array[ind_min], array[ind_max]\n",
    "    return array\n",
    "\n",
    "\n",
    "print(\"[5, 2, 3, 4, 1] |\", min_max_swap([5, 2, 3, 4, 1]))\n",
    "print(\"[5, 5, 5, 5, 1] |\", min_max_swap([5, 5, 5, 5, 1]))\n",
    "print(\"[5, 1, 1, 1, 1] |\", min_max_swap([5, 1, 1, 1, 1]))\n",
    "print(\"[1]             |\", min_max_swap([1]))\n",
    "print(\"[]              |\", min_max_swap([]))"
   ]
  }
 ],
 "metadata": {
  "kernelspec": {
   "display_name": "Python 3.10.5 64-bit",
   "language": "python",
   "name": "python3"
  },
  "language_info": {
   "codemirror_mode": {
    "name": "ipython",
    "version": 3
   },
   "file_extension": ".py",
   "mimetype": "text/x-python",
   "name": "python",
   "nbconvert_exporter": "python",
   "pygments_lexer": "ipython3",
   "version": "3.10.5"
  },
  "vscode": {
   "interpreter": {
    "hash": "114d303552085fcf64a64dd34f96980ac0a97fa0c82447a7089cec4b1cdabf60"
   }
  }
 },
 "nbformat": 4,
 "nbformat_minor": 5
}
