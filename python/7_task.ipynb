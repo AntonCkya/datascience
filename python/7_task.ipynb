{
 "cells": [
  {
   "cell_type": "markdown",
   "id": "d89e88d8",
   "metadata": {},
   "source": [
    "# Самостоятельное задание #7\n",
    "\n",
    "\n",
    "### Задание 1\n",
    "\n",
    "Допишите функцию, которая принимает список чисел и, с помощью множеств, определяет количество различных чисел внутри списка."
   ]
  },
  {
   "cell_type": "code",
   "execution_count": 3,
   "id": "1b443f02",
   "metadata": {},
   "outputs": [
    {
     "name": "stdout",
     "output_type": "stream",
     "text": [
      "[1, 2, 3, 4, 5] | 5\n",
      "[5, 2, 3, 4, 5] | 4\n",
      "[5, 5, 5, 5, 5] | 1\n",
      "[]              | 0\n"
     ]
    }
   ],
   "source": [
    "def count_diff (array: list):\n",
    "    return len(set(array))\n",
    "\n",
    "\n",
    "print(\"[1, 2, 3, 4, 5] |\", count_diff([1, 2, 3, 4, 5]))\n",
    "print(\"[5, 2, 3, 4, 5] |\", count_diff([5, 2, 3, 4, 5]))\n",
    "print(\"[5, 5, 5, 5, 5] |\", count_diff([5, 5, 5, 5, 5]))\n",
    "print(\"[]              |\", count_diff([]))"
   ]
  },
  {
   "cell_type": "markdown",
   "id": "89118666",
   "metadata": {},
   "source": [
    "### Задание 2\n",
    "\n",
    "Допишите функцию, которая принимает несколько списков чисел и, с помощью множеств, определяет количество общих чисел из первого и второго списка."
   ]
  },
  {
   "cell_type": "code",
   "execution_count": 11,
   "id": "9ad5e3fd",
   "metadata": {},
   "outputs": [
    {
     "name": "stdout",
     "output_type": "stream",
     "text": [
      "[1, 2, 3, 4, 5, 6, 7, 8], [4, 5, 6, 7, 8, 9, 10], [2]            | 5\n",
      "[1, 2, 3, 4, 5, 6, 7, 8], [8, 8, 8, 7, 8, 9, 10], [2], [6, 4, 1] | 2\n",
      "[1, 2, 3]                                                        | -1\n",
      "                                                                 | -1\n"
     ]
    }
   ],
   "source": [
    "def matches_first_second(*args):\n",
    "    if len(args) < 2:\n",
    "        return -1\n",
    "    f = len(set(args[0]))\n",
    "    s = len(set(args[1]))\n",
    "    fs = len(set(args[0] + args[1]))\n",
    "    return f + s - fs\n",
    "\n",
    "\n",
    "print(\"[1, 2, 3, 4, 5, 6, 7, 8], [4, 5, 6, 7, 8, 9, 10], [2]            |\", matches_first_second([1, 2, 3, 4, 5, 6, 7, 8],\\\n",
    "    [4, 5, 6, 7, 8, 9, 10], [2]))\n",
    "print(\"[1, 2, 3, 4, 5, 6, 7, 8], [8, 8, 8, 7, 8, 9, 10], [2], [6, 4, 1] |\", matches_first_second([1, 2, 3, 4, 5, 6, 7, 8],\\\n",
    "    [8, 8, 8, 7, 8, 9, 10], [2], [6, 4, 1]))\n",
    "print(\"[1, 2, 3]                                                        |\", matches_first_second([1, 2, 3]))\n",
    "print(\"                                                                 |\", matches_first_second())\n"
   ]
  }
 ],
 "metadata": {
  "kernelspec": {
   "display_name": "Python 3.10.5 64-bit",
   "language": "python",
   "name": "python3"
  },
  "language_info": {
   "codemirror_mode": {
    "name": "ipython",
    "version": 3
   },
   "file_extension": ".py",
   "mimetype": "text/x-python",
   "name": "python",
   "nbconvert_exporter": "python",
   "pygments_lexer": "ipython3",
   "version": "3.10.5"
  },
  "vscode": {
   "interpreter": {
    "hash": "114d303552085fcf64a64dd34f96980ac0a97fa0c82447a7089cec4b1cdabf60"
   }
  }
 },
 "nbformat": 4,
 "nbformat_minor": 5
}
